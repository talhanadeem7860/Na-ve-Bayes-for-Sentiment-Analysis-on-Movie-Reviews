{
 "cells": [
  {
   "cell_type": "code",
   "execution_count": 1,
   "metadata": {},
   "outputs": [],
   "source": [
    "import re\n",
    "import os\n",
    "import numpy as np\n",
    "import pandas as pd"
   ]
  },
  {
   "cell_type": "code",
   "execution_count": 2,
   "metadata": {},
   "outputs": [],
   "source": [
    "#reads and opens the training set of positive and negative files\n",
    "path1 = 'train/pos/'\n",
    "path2 = 'train/neg/'\n",
    "pos_file = os.listdir(path1)\n",
    "pos_file = [open(path1+f, 'r',encoding = 'utf8').read() for f in pos_file]\n",
    "neg_file = os.listdir(path2)\n",
    "neg_file = [open(path2+f, 'r',encoding = 'utf8').read() for f in neg_file]"
   ]
  },
  {
   "cell_type": "code",
   "execution_count": 3,
   "metadata": {},
   "outputs": [],
   "source": [
    "#accessing stopwords\n",
    "my_file =open(\"stop_words.txt\")\n",
    "content = my_file.read()\n",
    "content = re.sub(r'[^(a-zA-Z)\\s]','',content)\n",
    "stop_words = content.split(\"\\n\")\n",
    "my_file.close()"
   ]
  },
  {
   "cell_type": "code",
   "execution_count": 4,
   "metadata": {},
   "outputs": [],
   "source": [
    "rev=[]\n",
    "for p in pos_file:\n",
    "    #creates a list in which the first element is the review while second is the respective label\n",
    "    rev.append( (p, 1) )\n",
    "    df =  pd.DataFrame(rev,columns=['Review','Label'])"
   ]
  },
  {
   "cell_type": "code",
   "execution_count": 5,
   "metadata": {},
   "outputs": [],
   "source": [
    "def clean_data(data):\n",
    "    \n",
    "    data = re.sub('[()]', '', data)    #removes paranthesis\n",
    "        \n",
    "    data = re.sub('[^ a-zA-Z0-9]', '', data) #removes special characters\n",
    "    \n",
    "    data = re.sub('[0-9]', '', data)  #removes numbers\n",
    "     \n",
    "    data = data.lower() #converts the review into lower case\n",
    "   \n",
    "    return data"
   ]
  },
  {
   "cell_type": "code",
   "execution_count": 6,
   "metadata": {},
   "outputs": [],
   "source": [
    "df['Review'] = df['Review'].apply(clean_data)"
   ]
  },
  {
   "cell_type": "code",
   "execution_count": 7,
   "metadata": {},
   "outputs": [
    {
     "data": {
      "text/html": [
       "<div>\n",
       "<style scoped>\n",
       "    .dataframe tbody tr th:only-of-type {\n",
       "        vertical-align: middle;\n",
       "    }\n",
       "\n",
       "    .dataframe tbody tr th {\n",
       "        vertical-align: top;\n",
       "    }\n",
       "\n",
       "    .dataframe thead th {\n",
       "        text-align: right;\n",
       "    }\n",
       "</style>\n",
       "<table border=\"1\" class=\"dataframe\">\n",
       "  <thead>\n",
       "    <tr style=\"text-align: right;\">\n",
       "      <th></th>\n",
       "      <th>Review</th>\n",
       "      <th>Label</th>\n",
       "    </tr>\n",
       "  </thead>\n",
       "  <tbody>\n",
       "    <tr>\n",
       "      <th>0</th>\n",
       "      <td>bromwell high is a cartoon comedy it ran at th...</td>\n",
       "      <td>1</td>\n",
       "    </tr>\n",
       "    <tr>\n",
       "      <th>1</th>\n",
       "      <td>homelessness or houselessness as george carlin...</td>\n",
       "      <td>1</td>\n",
       "    </tr>\n",
       "    <tr>\n",
       "      <th>2</th>\n",
       "      <td>brilliant overacting by lesley ann warren best...</td>\n",
       "      <td>1</td>\n",
       "    </tr>\n",
       "    <tr>\n",
       "      <th>3</th>\n",
       "      <td>this is easily the most underrated film inn th...</td>\n",
       "      <td>1</td>\n",
       "    </tr>\n",
       "    <tr>\n",
       "      <th>4</th>\n",
       "      <td>this is not the typical mel brooks film it was...</td>\n",
       "      <td>1</td>\n",
       "    </tr>\n",
       "  </tbody>\n",
       "</table>\n",
       "</div>"
      ],
      "text/plain": [
       "                                              Review  Label\n",
       "0  bromwell high is a cartoon comedy it ran at th...      1\n",
       "1  homelessness or houselessness as george carlin...      1\n",
       "2  brilliant overacting by lesley ann warren best...      1\n",
       "3  this is easily the most underrated film inn th...      1\n",
       "4  this is not the typical mel brooks film it was...      1"
      ]
     },
     "execution_count": 7,
     "metadata": {},
     "output_type": "execute_result"
    }
   ],
   "source": [
    "df.head()"
   ]
  },
  {
   "cell_type": "code",
   "execution_count": 8,
   "metadata": {},
   "outputs": [],
   "source": [
    "def data_tokenize(tokenized_text):\n",
    "    return tokenized_text.split()      #tokenizes the data"
   ]
  },
  {
   "cell_type": "code",
   "execution_count": 9,
   "metadata": {},
   "outputs": [],
   "source": [
    "df['Review']=df['Review'].apply(data_tokenize)"
   ]
  },
  {
   "cell_type": "code",
   "execution_count": 10,
   "metadata": {},
   "outputs": [
    {
     "data": {
      "text/html": [
       "<div>\n",
       "<style scoped>\n",
       "    .dataframe tbody tr th:only-of-type {\n",
       "        vertical-align: middle;\n",
       "    }\n",
       "\n",
       "    .dataframe tbody tr th {\n",
       "        vertical-align: top;\n",
       "    }\n",
       "\n",
       "    .dataframe thead th {\n",
       "        text-align: right;\n",
       "    }\n",
       "</style>\n",
       "<table border=\"1\" class=\"dataframe\">\n",
       "  <thead>\n",
       "    <tr style=\"text-align: right;\">\n",
       "      <th></th>\n",
       "      <th>Review</th>\n",
       "      <th>Label</th>\n",
       "    </tr>\n",
       "  </thead>\n",
       "  <tbody>\n",
       "    <tr>\n",
       "      <th>0</th>\n",
       "      <td>[bromwell, high, is, a, cartoon, comedy, it, r...</td>\n",
       "      <td>1</td>\n",
       "    </tr>\n",
       "    <tr>\n",
       "      <th>1</th>\n",
       "      <td>[homelessness, or, houselessness, as, george, ...</td>\n",
       "      <td>1</td>\n",
       "    </tr>\n",
       "    <tr>\n",
       "      <th>2</th>\n",
       "      <td>[brilliant, overacting, by, lesley, ann, warre...</td>\n",
       "      <td>1</td>\n",
       "    </tr>\n",
       "    <tr>\n",
       "      <th>3</th>\n",
       "      <td>[this, is, easily, the, most, underrated, film...</td>\n",
       "      <td>1</td>\n",
       "    </tr>\n",
       "    <tr>\n",
       "      <th>4</th>\n",
       "      <td>[this, is, not, the, typical, mel, brooks, fil...</td>\n",
       "      <td>1</td>\n",
       "    </tr>\n",
       "  </tbody>\n",
       "</table>\n",
       "</div>"
      ],
      "text/plain": [
       "                                              Review  Label\n",
       "0  [bromwell, high, is, a, cartoon, comedy, it, r...      1\n",
       "1  [homelessness, or, houselessness, as, george, ...      1\n",
       "2  [brilliant, overacting, by, lesley, ann, warre...      1\n",
       "3  [this, is, easily, the, most, underrated, film...      1\n",
       "4  [this, is, not, the, typical, mel, brooks, fil...      1"
      ]
     },
     "execution_count": 10,
     "metadata": {},
     "output_type": "execute_result"
    }
   ],
   "source": [
    "df.head()"
   ]
  },
  {
   "cell_type": "code",
   "execution_count": 11,
   "metadata": {},
   "outputs": [],
   "source": [
    "def Remove_Stop_Words(data):\n",
    "    filtered_sentence = [w for w in data if not w in stop_words]\n",
    "    return filtered_sentence"
   ]
  },
  {
   "cell_type": "code",
   "execution_count": 12,
   "metadata": {},
   "outputs": [],
   "source": [
    "df['Review']=df['Review'].apply(Remove_Stop_Words)\n"
   ]
  },
  {
   "cell_type": "code",
   "execution_count": 13,
   "metadata": {},
   "outputs": [
    {
     "data": {
      "text/html": [
       "<div>\n",
       "<style scoped>\n",
       "    .dataframe tbody tr th:only-of-type {\n",
       "        vertical-align: middle;\n",
       "    }\n",
       "\n",
       "    .dataframe tbody tr th {\n",
       "        vertical-align: top;\n",
       "    }\n",
       "\n",
       "    .dataframe thead th {\n",
       "        text-align: right;\n",
       "    }\n",
       "</style>\n",
       "<table border=\"1\" class=\"dataframe\">\n",
       "  <thead>\n",
       "    <tr style=\"text-align: right;\">\n",
       "      <th></th>\n",
       "      <th>Review</th>\n",
       "      <th>Label</th>\n",
       "    </tr>\n",
       "  </thead>\n",
       "  <tbody>\n",
       "    <tr>\n",
       "      <th>0</th>\n",
       "      <td>[bromwell, high, cartoon, comedy, ran, time, p...</td>\n",
       "      <td>1</td>\n",
       "    </tr>\n",
       "    <tr>\n",
       "      <th>1</th>\n",
       "      <td>[homelessness, houselessness, george, carlin, ...</td>\n",
       "      <td>1</td>\n",
       "    </tr>\n",
       "    <tr>\n",
       "      <th>2</th>\n",
       "      <td>[brilliant, overacting, lesley, ann, warren, b...</td>\n",
       "      <td>1</td>\n",
       "    </tr>\n",
       "    <tr>\n",
       "      <th>3</th>\n",
       "      <td>[easily, underrated, film, inn, brooks, cannon...</td>\n",
       "      <td>1</td>\n",
       "    </tr>\n",
       "    <tr>\n",
       "      <th>4</th>\n",
       "      <td>[typical, mel, brooks, film, much, less, slaps...</td>\n",
       "      <td>1</td>\n",
       "    </tr>\n",
       "  </tbody>\n",
       "</table>\n",
       "</div>"
      ],
      "text/plain": [
       "                                              Review  Label\n",
       "0  [bromwell, high, cartoon, comedy, ran, time, p...      1\n",
       "1  [homelessness, houselessness, george, carlin, ...      1\n",
       "2  [brilliant, overacting, lesley, ann, warren, b...      1\n",
       "3  [easily, underrated, film, inn, brooks, cannon...      1\n",
       "4  [typical, mel, brooks, film, much, less, slaps...      1"
      ]
     },
     "execution_count": 13,
     "metadata": {},
     "output_type": "execute_result"
    }
   ],
   "source": [
    "df.head()"
   ]
  },
  {
   "cell_type": "code",
   "execution_count": 14,
   "metadata": {},
   "outputs": [],
   "source": [
    "rev_neg=[]\n",
    "for p in neg_file:\n",
    "    rev_neg.append( (p, 0) )\n",
    "    df_neg =  pd.DataFrame(rev_neg,columns=['Review','Label'])"
   ]
  },
  {
   "cell_type": "code",
   "execution_count": 15,
   "metadata": {},
   "outputs": [
    {
     "data": {
      "text/html": [
       "<div>\n",
       "<style scoped>\n",
       "    .dataframe tbody tr th:only-of-type {\n",
       "        vertical-align: middle;\n",
       "    }\n",
       "\n",
       "    .dataframe tbody tr th {\n",
       "        vertical-align: top;\n",
       "    }\n",
       "\n",
       "    .dataframe thead th {\n",
       "        text-align: right;\n",
       "    }\n",
       "</style>\n",
       "<table border=\"1\" class=\"dataframe\">\n",
       "  <thead>\n",
       "    <tr style=\"text-align: right;\">\n",
       "      <th></th>\n",
       "      <th>Review</th>\n",
       "      <th>Label</th>\n",
       "    </tr>\n",
       "  </thead>\n",
       "  <tbody>\n",
       "    <tr>\n",
       "      <th>0</th>\n",
       "      <td>Story of a man who has unnatural feelings for ...</td>\n",
       "      <td>0</td>\n",
       "    </tr>\n",
       "    <tr>\n",
       "      <th>1</th>\n",
       "      <td>Airport '77 starts as a brand new luxury 747 p...</td>\n",
       "      <td>0</td>\n",
       "    </tr>\n",
       "    <tr>\n",
       "      <th>2</th>\n",
       "      <td>This film lacked something I couldn't put my f...</td>\n",
       "      <td>0</td>\n",
       "    </tr>\n",
       "    <tr>\n",
       "      <th>3</th>\n",
       "      <td>Sorry everyone,,, I know this is supposed to b...</td>\n",
       "      <td>0</td>\n",
       "    </tr>\n",
       "    <tr>\n",
       "      <th>4</th>\n",
       "      <td>When I was little my parents took me along to ...</td>\n",
       "      <td>0</td>\n",
       "    </tr>\n",
       "  </tbody>\n",
       "</table>\n",
       "</div>"
      ],
      "text/plain": [
       "                                              Review  Label\n",
       "0  Story of a man who has unnatural feelings for ...      0\n",
       "1  Airport '77 starts as a brand new luxury 747 p...      0\n",
       "2  This film lacked something I couldn't put my f...      0\n",
       "3  Sorry everyone,,, I know this is supposed to b...      0\n",
       "4  When I was little my parents took me along to ...      0"
      ]
     },
     "execution_count": 15,
     "metadata": {},
     "output_type": "execute_result"
    }
   ],
   "source": [
    "df_neg.head()"
   ]
  },
  {
   "cell_type": "code",
   "execution_count": 16,
   "metadata": {},
   "outputs": [],
   "source": [
    "df_neg['Review'] = df_neg['Review'].apply(clean_data)"
   ]
  },
  {
   "cell_type": "code",
   "execution_count": 17,
   "metadata": {},
   "outputs": [
    {
     "data": {
      "text/html": [
       "<div>\n",
       "<style scoped>\n",
       "    .dataframe tbody tr th:only-of-type {\n",
       "        vertical-align: middle;\n",
       "    }\n",
       "\n",
       "    .dataframe tbody tr th {\n",
       "        vertical-align: top;\n",
       "    }\n",
       "\n",
       "    .dataframe thead th {\n",
       "        text-align: right;\n",
       "    }\n",
       "</style>\n",
       "<table border=\"1\" class=\"dataframe\">\n",
       "  <thead>\n",
       "    <tr style=\"text-align: right;\">\n",
       "      <th></th>\n",
       "      <th>Review</th>\n",
       "      <th>Label</th>\n",
       "    </tr>\n",
       "  </thead>\n",
       "  <tbody>\n",
       "    <tr>\n",
       "      <th>0</th>\n",
       "      <td>story of a man who has unnatural feelings for ...</td>\n",
       "      <td>0</td>\n",
       "    </tr>\n",
       "    <tr>\n",
       "      <th>1</th>\n",
       "      <td>airport  starts as a brand new luxury  plane i...</td>\n",
       "      <td>0</td>\n",
       "    </tr>\n",
       "    <tr>\n",
       "      <th>2</th>\n",
       "      <td>this film lacked something i couldnt put my fi...</td>\n",
       "      <td>0</td>\n",
       "    </tr>\n",
       "    <tr>\n",
       "      <th>3</th>\n",
       "      <td>sorry everyone i know this is supposed to be a...</td>\n",
       "      <td>0</td>\n",
       "    </tr>\n",
       "    <tr>\n",
       "      <th>4</th>\n",
       "      <td>when i was little my parents took me along to ...</td>\n",
       "      <td>0</td>\n",
       "    </tr>\n",
       "  </tbody>\n",
       "</table>\n",
       "</div>"
      ],
      "text/plain": [
       "                                              Review  Label\n",
       "0  story of a man who has unnatural feelings for ...      0\n",
       "1  airport  starts as a brand new luxury  plane i...      0\n",
       "2  this film lacked something i couldnt put my fi...      0\n",
       "3  sorry everyone i know this is supposed to be a...      0\n",
       "4  when i was little my parents took me along to ...      0"
      ]
     },
     "execution_count": 17,
     "metadata": {},
     "output_type": "execute_result"
    }
   ],
   "source": [
    "df_neg.head()"
   ]
  },
  {
   "cell_type": "code",
   "execution_count": 18,
   "metadata": {},
   "outputs": [],
   "source": [
    "df_neg['Review'] = df_neg['Review'].apply(data_tokenize)"
   ]
  },
  {
   "cell_type": "code",
   "execution_count": 19,
   "metadata": {},
   "outputs": [
    {
     "data": {
      "text/html": [
       "<div>\n",
       "<style scoped>\n",
       "    .dataframe tbody tr th:only-of-type {\n",
       "        vertical-align: middle;\n",
       "    }\n",
       "\n",
       "    .dataframe tbody tr th {\n",
       "        vertical-align: top;\n",
       "    }\n",
       "\n",
       "    .dataframe thead th {\n",
       "        text-align: right;\n",
       "    }\n",
       "</style>\n",
       "<table border=\"1\" class=\"dataframe\">\n",
       "  <thead>\n",
       "    <tr style=\"text-align: right;\">\n",
       "      <th></th>\n",
       "      <th>Review</th>\n",
       "      <th>Label</th>\n",
       "    </tr>\n",
       "  </thead>\n",
       "  <tbody>\n",
       "    <tr>\n",
       "      <th>0</th>\n",
       "      <td>[story, of, a, man, who, has, unnatural, feeli...</td>\n",
       "      <td>0</td>\n",
       "    </tr>\n",
       "    <tr>\n",
       "      <th>1</th>\n",
       "      <td>[airport, starts, as, a, brand, new, luxury, p...</td>\n",
       "      <td>0</td>\n",
       "    </tr>\n",
       "    <tr>\n",
       "      <th>2</th>\n",
       "      <td>[this, film, lacked, something, i, couldnt, pu...</td>\n",
       "      <td>0</td>\n",
       "    </tr>\n",
       "    <tr>\n",
       "      <th>3</th>\n",
       "      <td>[sorry, everyone, i, know, this, is, supposed,...</td>\n",
       "      <td>0</td>\n",
       "    </tr>\n",
       "    <tr>\n",
       "      <th>4</th>\n",
       "      <td>[when, i, was, little, my, parents, took, me, ...</td>\n",
       "      <td>0</td>\n",
       "    </tr>\n",
       "  </tbody>\n",
       "</table>\n",
       "</div>"
      ],
      "text/plain": [
       "                                              Review  Label\n",
       "0  [story, of, a, man, who, has, unnatural, feeli...      0\n",
       "1  [airport, starts, as, a, brand, new, luxury, p...      0\n",
       "2  [this, film, lacked, something, i, couldnt, pu...      0\n",
       "3  [sorry, everyone, i, know, this, is, supposed,...      0\n",
       "4  [when, i, was, little, my, parents, took, me, ...      0"
      ]
     },
     "execution_count": 19,
     "metadata": {},
     "output_type": "execute_result"
    }
   ],
   "source": [
    "df_neg.head()"
   ]
  },
  {
   "cell_type": "code",
   "execution_count": 20,
   "metadata": {},
   "outputs": [],
   "source": [
    "df_neg['Review'] = df_neg['Review'].apply(Remove_Stop_Words)"
   ]
  },
  {
   "cell_type": "code",
   "execution_count": 21,
   "metadata": {},
   "outputs": [
    {
     "data": {
      "text/html": [
       "<div>\n",
       "<style scoped>\n",
       "    .dataframe tbody tr th:only-of-type {\n",
       "        vertical-align: middle;\n",
       "    }\n",
       "\n",
       "    .dataframe tbody tr th {\n",
       "        vertical-align: top;\n",
       "    }\n",
       "\n",
       "    .dataframe thead th {\n",
       "        text-align: right;\n",
       "    }\n",
       "</style>\n",
       "<table border=\"1\" class=\"dataframe\">\n",
       "  <thead>\n",
       "    <tr style=\"text-align: right;\">\n",
       "      <th></th>\n",
       "      <th>Review</th>\n",
       "      <th>Label</th>\n",
       "    </tr>\n",
       "  </thead>\n",
       "  <tbody>\n",
       "    <tr>\n",
       "      <th>0</th>\n",
       "      <td>[story, man, unnatural, feelings, pig, starts,...</td>\n",
       "      <td>0</td>\n",
       "    </tr>\n",
       "    <tr>\n",
       "      <th>1</th>\n",
       "      <td>[airport, starts, brand, new, luxury, plane, l...</td>\n",
       "      <td>0</td>\n",
       "    </tr>\n",
       "    <tr>\n",
       "      <th>2</th>\n",
       "      <td>[film, lacked, something, put, finger, first, ...</td>\n",
       "      <td>0</td>\n",
       "    </tr>\n",
       "    <tr>\n",
       "      <th>3</th>\n",
       "      <td>[sorry, everyone, know, supposed, art, film, w...</td>\n",
       "      <td>0</td>\n",
       "    </tr>\n",
       "    <tr>\n",
       "      <th>4</th>\n",
       "      <td>[little, parents, took, along, theater, see, i...</td>\n",
       "      <td>0</td>\n",
       "    </tr>\n",
       "  </tbody>\n",
       "</table>\n",
       "</div>"
      ],
      "text/plain": [
       "                                              Review  Label\n",
       "0  [story, man, unnatural, feelings, pig, starts,...      0\n",
       "1  [airport, starts, brand, new, luxury, plane, l...      0\n",
       "2  [film, lacked, something, put, finger, first, ...      0\n",
       "3  [sorry, everyone, know, supposed, art, film, w...      0\n",
       "4  [little, parents, took, along, theater, see, i...      0"
      ]
     },
     "execution_count": 21,
     "metadata": {},
     "output_type": "execute_result"
    }
   ],
   "source": [
    "df_neg.head()"
   ]
  },
  {
   "cell_type": "code",
   "execution_count": 22,
   "metadata": {},
   "outputs": [],
   "source": [
    "merged_train = pd.concat([df, df_neg], ignore_index=True) #combines the whole training data"
   ]
  },
  {
   "cell_type": "code",
   "execution_count": 23,
   "metadata": {
    "scrolled": true
   },
   "outputs": [
    {
     "data": {
      "text/plain": [
       "<bound method NDFrame.head of                                                   Review  Label\n",
       "0      [bromwell, high, cartoon, comedy, ran, time, p...      1\n",
       "1      [homelessness, houselessness, george, carlin, ...      1\n",
       "2      [brilliant, overacting, lesley, ann, warren, b...      1\n",
       "3      [easily, underrated, film, inn, brooks, cannon...      1\n",
       "4      [typical, mel, brooks, film, much, less, slaps...      1\n",
       "...                                                  ...    ...\n",
       "24995  [towards, end, movie, felt, technical, felt, l...      0\n",
       "24996  [kind, movie, enemies, content, watch, time, b...      0\n",
       "24997  [saw, descent, last, night, stockholm, film, f...      0\n",
       "24998  [films, pick, pound, turn, rather, good, rd, c...      0\n",
       "24999  [one, dumbest, films, ive, ever, seen, rips, n...      0\n",
       "\n",
       "[25000 rows x 2 columns]>"
      ]
     },
     "execution_count": 23,
     "metadata": {},
     "output_type": "execute_result"
    }
   ],
   "source": [
    "merged_train.head"
   ]
  },
  {
   "cell_type": "code",
   "execution_count": 24,
   "metadata": {},
   "outputs": [],
   "source": [
    "#opening and reading testing files\n",
    "path1 = 'test/pos/'\n",
    "path2 = 'test/neg/'\n",
    "test_pos = os.listdir(path1)\n",
    "test_pos = [open(path1+f, 'r',encoding = 'utf8').read() for f in test_pos]\n",
    "test_neg = os.listdir(path2)\n",
    "test_neg = [open(path2+f, 'r',encoding = 'utf8').read() for f in test_neg]"
   ]
  },
  {
   "cell_type": "code",
   "execution_count": 25,
   "metadata": {},
   "outputs": [],
   "source": [
    "pos_test = []\n",
    "for p in test_pos:\n",
    "    pos_test.append( (p, 1) )\n",
    "    df_pos =  pd.DataFrame(pos_test,columns=['Review','Label'])"
   ]
  },
  {
   "cell_type": "code",
   "execution_count": 26,
   "metadata": {},
   "outputs": [],
   "source": [
    "df_pos['Review'] = df_pos['Review'].apply(clean_data)"
   ]
  },
  {
   "cell_type": "code",
   "execution_count": 27,
   "metadata": {},
   "outputs": [
    {
     "data": {
      "text/html": [
       "<div>\n",
       "<style scoped>\n",
       "    .dataframe tbody tr th:only-of-type {\n",
       "        vertical-align: middle;\n",
       "    }\n",
       "\n",
       "    .dataframe tbody tr th {\n",
       "        vertical-align: top;\n",
       "    }\n",
       "\n",
       "    .dataframe thead th {\n",
       "        text-align: right;\n",
       "    }\n",
       "</style>\n",
       "<table border=\"1\" class=\"dataframe\">\n",
       "  <thead>\n",
       "    <tr style=\"text-align: right;\">\n",
       "      <th></th>\n",
       "      <th>Review</th>\n",
       "      <th>Label</th>\n",
       "    </tr>\n",
       "  </thead>\n",
       "  <tbody>\n",
       "    <tr>\n",
       "      <th>0</th>\n",
       "      <td>i went and saw this movie last night after bei...</td>\n",
       "      <td>1</td>\n",
       "    </tr>\n",
       "    <tr>\n",
       "      <th>1</th>\n",
       "      <td>actor turned director bill paxton follows up h...</td>\n",
       "      <td>1</td>\n",
       "    </tr>\n",
       "    <tr>\n",
       "      <th>2</th>\n",
       "      <td>as a recreational golfer with some knowledge o...</td>\n",
       "      <td>1</td>\n",
       "    </tr>\n",
       "    <tr>\n",
       "      <th>3</th>\n",
       "      <td>i saw this film in a sneak preview and it is d...</td>\n",
       "      <td>1</td>\n",
       "    </tr>\n",
       "    <tr>\n",
       "      <th>4</th>\n",
       "      <td>bill paxton has taken the true story of the  u...</td>\n",
       "      <td>1</td>\n",
       "    </tr>\n",
       "  </tbody>\n",
       "</table>\n",
       "</div>"
      ],
      "text/plain": [
       "                                              Review  Label\n",
       "0  i went and saw this movie last night after bei...      1\n",
       "1  actor turned director bill paxton follows up h...      1\n",
       "2  as a recreational golfer with some knowledge o...      1\n",
       "3  i saw this film in a sneak preview and it is d...      1\n",
       "4  bill paxton has taken the true story of the  u...      1"
      ]
     },
     "execution_count": 27,
     "metadata": {},
     "output_type": "execute_result"
    }
   ],
   "source": [
    "df_pos.head()"
   ]
  },
  {
   "cell_type": "code",
   "execution_count": 28,
   "metadata": {},
   "outputs": [],
   "source": [
    "df_pos['Review'] = df_pos['Review'].apply(data_tokenize)"
   ]
  },
  {
   "cell_type": "code",
   "execution_count": 29,
   "metadata": {},
   "outputs": [
    {
     "data": {
      "text/html": [
       "<div>\n",
       "<style scoped>\n",
       "    .dataframe tbody tr th:only-of-type {\n",
       "        vertical-align: middle;\n",
       "    }\n",
       "\n",
       "    .dataframe tbody tr th {\n",
       "        vertical-align: top;\n",
       "    }\n",
       "\n",
       "    .dataframe thead th {\n",
       "        text-align: right;\n",
       "    }\n",
       "</style>\n",
       "<table border=\"1\" class=\"dataframe\">\n",
       "  <thead>\n",
       "    <tr style=\"text-align: right;\">\n",
       "      <th></th>\n",
       "      <th>Review</th>\n",
       "      <th>Label</th>\n",
       "    </tr>\n",
       "  </thead>\n",
       "  <tbody>\n",
       "    <tr>\n",
       "      <th>0</th>\n",
       "      <td>[i, went, and, saw, this, movie, last, night, ...</td>\n",
       "      <td>1</td>\n",
       "    </tr>\n",
       "    <tr>\n",
       "      <th>1</th>\n",
       "      <td>[actor, turned, director, bill, paxton, follow...</td>\n",
       "      <td>1</td>\n",
       "    </tr>\n",
       "    <tr>\n",
       "      <th>2</th>\n",
       "      <td>[as, a, recreational, golfer, with, some, know...</td>\n",
       "      <td>1</td>\n",
       "    </tr>\n",
       "    <tr>\n",
       "      <th>3</th>\n",
       "      <td>[i, saw, this, film, in, a, sneak, preview, an...</td>\n",
       "      <td>1</td>\n",
       "    </tr>\n",
       "    <tr>\n",
       "      <th>4</th>\n",
       "      <td>[bill, paxton, has, taken, the, true, story, o...</td>\n",
       "      <td>1</td>\n",
       "    </tr>\n",
       "  </tbody>\n",
       "</table>\n",
       "</div>"
      ],
      "text/plain": [
       "                                              Review  Label\n",
       "0  [i, went, and, saw, this, movie, last, night, ...      1\n",
       "1  [actor, turned, director, bill, paxton, follow...      1\n",
       "2  [as, a, recreational, golfer, with, some, know...      1\n",
       "3  [i, saw, this, film, in, a, sneak, preview, an...      1\n",
       "4  [bill, paxton, has, taken, the, true, story, o...      1"
      ]
     },
     "execution_count": 29,
     "metadata": {},
     "output_type": "execute_result"
    }
   ],
   "source": [
    "df_pos.head()"
   ]
  },
  {
   "cell_type": "code",
   "execution_count": 30,
   "metadata": {},
   "outputs": [],
   "source": [
    "df_pos['Review'] = df_pos['Review'].apply(Remove_Stop_Words)"
   ]
  },
  {
   "cell_type": "code",
   "execution_count": 31,
   "metadata": {},
   "outputs": [
    {
     "data": {
      "text/html": [
       "<div>\n",
       "<style scoped>\n",
       "    .dataframe tbody tr th:only-of-type {\n",
       "        vertical-align: middle;\n",
       "    }\n",
       "\n",
       "    .dataframe tbody tr th {\n",
       "        vertical-align: top;\n",
       "    }\n",
       "\n",
       "    .dataframe thead th {\n",
       "        text-align: right;\n",
       "    }\n",
       "</style>\n",
       "<table border=\"1\" class=\"dataframe\">\n",
       "  <thead>\n",
       "    <tr style=\"text-align: right;\">\n",
       "      <th></th>\n",
       "      <th>Review</th>\n",
       "      <th>Label</th>\n",
       "    </tr>\n",
       "  </thead>\n",
       "  <tbody>\n",
       "    <tr>\n",
       "      <th>0</th>\n",
       "      <td>[went, saw, movie, last, night, coaxed, friend...</td>\n",
       "      <td>1</td>\n",
       "    </tr>\n",
       "    <tr>\n",
       "      <th>1</th>\n",
       "      <td>[actor, turned, director, bill, paxton, follow...</td>\n",
       "      <td>1</td>\n",
       "    </tr>\n",
       "    <tr>\n",
       "      <th>2</th>\n",
       "      <td>[recreational, golfer, knowledge, sports, hist...</td>\n",
       "      <td>1</td>\n",
       "    </tr>\n",
       "    <tr>\n",
       "      <th>3</th>\n",
       "      <td>[saw, film, sneak, preview, delightful, cinema...</td>\n",
       "      <td>1</td>\n",
       "    </tr>\n",
       "    <tr>\n",
       "      <th>4</th>\n",
       "      <td>[bill, paxton, taken, true, story, us, golf, o...</td>\n",
       "      <td>1</td>\n",
       "    </tr>\n",
       "  </tbody>\n",
       "</table>\n",
       "</div>"
      ],
      "text/plain": [
       "                                              Review  Label\n",
       "0  [went, saw, movie, last, night, coaxed, friend...      1\n",
       "1  [actor, turned, director, bill, paxton, follow...      1\n",
       "2  [recreational, golfer, knowledge, sports, hist...      1\n",
       "3  [saw, film, sneak, preview, delightful, cinema...      1\n",
       "4  [bill, paxton, taken, true, story, us, golf, o...      1"
      ]
     },
     "execution_count": 31,
     "metadata": {},
     "output_type": "execute_result"
    }
   ],
   "source": [
    "df_pos.head()"
   ]
  },
  {
   "cell_type": "code",
   "execution_count": 32,
   "metadata": {},
   "outputs": [],
   "source": [
    "neg_test = []\n",
    "for p in test_neg:\n",
    "    neg_test.append( (p, 0) )\n",
    "    df_test =  pd.DataFrame(neg_test,columns=['Review','Label'])"
   ]
  },
  {
   "cell_type": "code",
   "execution_count": 33,
   "metadata": {},
   "outputs": [],
   "source": [
    "df_test['Review'] = df_test['Review'].apply(clean_data)"
   ]
  },
  {
   "cell_type": "code",
   "execution_count": 34,
   "metadata": {},
   "outputs": [
    {
     "data": {
      "text/html": [
       "<div>\n",
       "<style scoped>\n",
       "    .dataframe tbody tr th:only-of-type {\n",
       "        vertical-align: middle;\n",
       "    }\n",
       "\n",
       "    .dataframe tbody tr th {\n",
       "        vertical-align: top;\n",
       "    }\n",
       "\n",
       "    .dataframe thead th {\n",
       "        text-align: right;\n",
       "    }\n",
       "</style>\n",
       "<table border=\"1\" class=\"dataframe\">\n",
       "  <thead>\n",
       "    <tr style=\"text-align: right;\">\n",
       "      <th></th>\n",
       "      <th>Review</th>\n",
       "      <th>Label</th>\n",
       "    </tr>\n",
       "  </thead>\n",
       "  <tbody>\n",
       "    <tr>\n",
       "      <th>0</th>\n",
       "      <td>once again mr costner has dragged out a movie ...</td>\n",
       "      <td>0</td>\n",
       "    </tr>\n",
       "    <tr>\n",
       "      <th>1</th>\n",
       "      <td>this is an example of why the majority of acti...</td>\n",
       "      <td>0</td>\n",
       "    </tr>\n",
       "    <tr>\n",
       "      <th>2</th>\n",
       "      <td>first of all i hate those moronic rappers who ...</td>\n",
       "      <td>0</td>\n",
       "    </tr>\n",
       "    <tr>\n",
       "      <th>3</th>\n",
       "      <td>not even the beatles could write songs everyon...</td>\n",
       "      <td>0</td>\n",
       "    </tr>\n",
       "    <tr>\n",
       "      <th>4</th>\n",
       "      <td>brass pictures movies is not a fitting word fo...</td>\n",
       "      <td>0</td>\n",
       "    </tr>\n",
       "  </tbody>\n",
       "</table>\n",
       "</div>"
      ],
      "text/plain": [
       "                                              Review  Label\n",
       "0  once again mr costner has dragged out a movie ...      0\n",
       "1  this is an example of why the majority of acti...      0\n",
       "2  first of all i hate those moronic rappers who ...      0\n",
       "3  not even the beatles could write songs everyon...      0\n",
       "4  brass pictures movies is not a fitting word fo...      0"
      ]
     },
     "execution_count": 34,
     "metadata": {},
     "output_type": "execute_result"
    }
   ],
   "source": [
    "df_test.head()"
   ]
  },
  {
   "cell_type": "code",
   "execution_count": 35,
   "metadata": {},
   "outputs": [],
   "source": [
    "df_test['Review'] = df_test['Review'].apply(data_tokenize)"
   ]
  },
  {
   "cell_type": "code",
   "execution_count": 36,
   "metadata": {},
   "outputs": [
    {
     "data": {
      "text/html": [
       "<div>\n",
       "<style scoped>\n",
       "    .dataframe tbody tr th:only-of-type {\n",
       "        vertical-align: middle;\n",
       "    }\n",
       "\n",
       "    .dataframe tbody tr th {\n",
       "        vertical-align: top;\n",
       "    }\n",
       "\n",
       "    .dataframe thead th {\n",
       "        text-align: right;\n",
       "    }\n",
       "</style>\n",
       "<table border=\"1\" class=\"dataframe\">\n",
       "  <thead>\n",
       "    <tr style=\"text-align: right;\">\n",
       "      <th></th>\n",
       "      <th>Review</th>\n",
       "      <th>Label</th>\n",
       "    </tr>\n",
       "  </thead>\n",
       "  <tbody>\n",
       "    <tr>\n",
       "      <th>0</th>\n",
       "      <td>[once, again, mr, costner, has, dragged, out, ...</td>\n",
       "      <td>0</td>\n",
       "    </tr>\n",
       "    <tr>\n",
       "      <th>1</th>\n",
       "      <td>[this, is, an, example, of, why, the, majority...</td>\n",
       "      <td>0</td>\n",
       "    </tr>\n",
       "    <tr>\n",
       "      <th>2</th>\n",
       "      <td>[first, of, all, i, hate, those, moronic, rapp...</td>\n",
       "      <td>0</td>\n",
       "    </tr>\n",
       "    <tr>\n",
       "      <th>3</th>\n",
       "      <td>[not, even, the, beatles, could, write, songs,...</td>\n",
       "      <td>0</td>\n",
       "    </tr>\n",
       "    <tr>\n",
       "      <th>4</th>\n",
       "      <td>[brass, pictures, movies, is, not, a, fitting,...</td>\n",
       "      <td>0</td>\n",
       "    </tr>\n",
       "  </tbody>\n",
       "</table>\n",
       "</div>"
      ],
      "text/plain": [
       "                                              Review  Label\n",
       "0  [once, again, mr, costner, has, dragged, out, ...      0\n",
       "1  [this, is, an, example, of, why, the, majority...      0\n",
       "2  [first, of, all, i, hate, those, moronic, rapp...      0\n",
       "3  [not, even, the, beatles, could, write, songs,...      0\n",
       "4  [brass, pictures, movies, is, not, a, fitting,...      0"
      ]
     },
     "execution_count": 36,
     "metadata": {},
     "output_type": "execute_result"
    }
   ],
   "source": [
    "df_test.head()"
   ]
  },
  {
   "cell_type": "code",
   "execution_count": 37,
   "metadata": {},
   "outputs": [],
   "source": [
    "df_test['Review'] = df_test['Review'].apply(Remove_Stop_Words)"
   ]
  },
  {
   "cell_type": "code",
   "execution_count": 38,
   "metadata": {},
   "outputs": [
    {
     "data": {
      "text/html": [
       "<div>\n",
       "<style scoped>\n",
       "    .dataframe tbody tr th:only-of-type {\n",
       "        vertical-align: middle;\n",
       "    }\n",
       "\n",
       "    .dataframe tbody tr th {\n",
       "        vertical-align: top;\n",
       "    }\n",
       "\n",
       "    .dataframe thead th {\n",
       "        text-align: right;\n",
       "    }\n",
       "</style>\n",
       "<table border=\"1\" class=\"dataframe\">\n",
       "  <thead>\n",
       "    <tr style=\"text-align: right;\">\n",
       "      <th></th>\n",
       "      <th>Review</th>\n",
       "      <th>Label</th>\n",
       "    </tr>\n",
       "  </thead>\n",
       "  <tbody>\n",
       "    <tr>\n",
       "      <th>0</th>\n",
       "      <td>[mr, costner, dragged, movie, far, longer, nec...</td>\n",
       "      <td>0</td>\n",
       "    </tr>\n",
       "    <tr>\n",
       "      <th>1</th>\n",
       "      <td>[example, majority, action, films, generic, bo...</td>\n",
       "      <td>0</td>\n",
       "    </tr>\n",
       "    <tr>\n",
       "      <th>2</th>\n",
       "      <td>[first, hate, moronic, rappers, act, gun, pres...</td>\n",
       "      <td>0</td>\n",
       "    </tr>\n",
       "    <tr>\n",
       "      <th>3</th>\n",
       "      <td>[even, beatles, could, write, songs, everyone,...</td>\n",
       "      <td>0</td>\n",
       "    </tr>\n",
       "    <tr>\n",
       "      <th>4</th>\n",
       "      <td>[brass, pictures, movies, fitting, word, reall...</td>\n",
       "      <td>0</td>\n",
       "    </tr>\n",
       "  </tbody>\n",
       "</table>\n",
       "</div>"
      ],
      "text/plain": [
       "                                              Review  Label\n",
       "0  [mr, costner, dragged, movie, far, longer, nec...      0\n",
       "1  [example, majority, action, films, generic, bo...      0\n",
       "2  [first, hate, moronic, rappers, act, gun, pres...      0\n",
       "3  [even, beatles, could, write, songs, everyone,...      0\n",
       "4  [brass, pictures, movies, fitting, word, reall...      0"
      ]
     },
     "execution_count": 38,
     "metadata": {},
     "output_type": "execute_result"
    }
   ],
   "source": [
    "df_test.head()"
   ]
  },
  {
   "cell_type": "code",
   "execution_count": 39,
   "metadata": {},
   "outputs": [],
   "source": [
    "merged_test = pd.concat([df_pos, df_test], ignore_index=True) #merges the whole of testing data"
   ]
  },
  {
   "cell_type": "code",
   "execution_count": 40,
   "metadata": {},
   "outputs": [
    {
     "data": {
      "text/plain": [
       "<bound method NDFrame.head of                                                   Review  Label\n",
       "0      [went, saw, movie, last, night, coaxed, friend...      1\n",
       "1      [actor, turned, director, bill, paxton, follow...      1\n",
       "2      [recreational, golfer, knowledge, sports, hist...      1\n",
       "3      [saw, film, sneak, preview, delightful, cinema...      1\n",
       "4      [bill, paxton, taken, true, story, us, golf, o...      1\n",
       "...                                                  ...    ...\n",
       "24995  [occasionally, let, kids, watch, garbage, unde...      0\n",
       "24996  [anymore, pretty, much, reality, tv, shows, pe...      0\n",
       "24997  [basic, genre, thriller, intercut, uncomfortab...      0\n",
       "24998  [four, things, intrigued, film, firstly, stars...      0\n",
       "24999  [david, bryces, comments, nearby, exceptionall...      0\n",
       "\n",
       "[25000 rows x 2 columns]>"
      ]
     },
     "execution_count": 40,
     "metadata": {},
     "output_type": "execute_result"
    }
   ],
   "source": [
    "merged_test.head"
   ]
  },
  {
   "cell_type": "code",
   "execution_count": 41,
   "metadata": {},
   "outputs": [],
   "source": [
    "#Creates the training and testing datasets along with respective labels\n",
    "X_train = merged_train['Review'].values\n",
    "Y_train = merged_train['Label'].values\n",
    "X_test = merged_test['Review'].values\n",
    "Y_test = merged_test['Label'].values"
   ]
  },
  {
   "cell_type": "code",
   "execution_count": 42,
   "metadata": {},
   "outputs": [],
   "source": [
    "from collections import defaultdict,Counter\n",
    "import math"
   ]
  },
  {
   "cell_type": "code",
   "execution_count": 43,
   "metadata": {},
   "outputs": [],
   "source": [
    "def unique_label(Y):\n",
    "    return np.unique(Y)"
   ]
  },
  {
   "cell_type": "code",
   "execution_count": 44,
   "metadata": {},
   "outputs": [],
   "source": [
    "def TrainNB(X, Y):                       #{} represents dictionary data\n",
    "    Ndoc = {}         \n",
    "    log_priors = {}\n",
    "    word_count = {}\n",
    "    vocab = set()\n",
    "    Class = unique_label(Y) #gives unique elemtents present in labels\n",
    "    data_grouped = dict()\n",
    "    \n",
    "    for c in Class:\n",
    "        data_grouped[c] = X[np.where(Y == c)]     \n",
    "    \n",
    "    #calculation of prior prob and word counts\n",
    "    for c, data in data_grouped.items():\n",
    "        \n",
    "        Ndoc[c] = len(data)\n",
    "        log_priors[c] = math.log(Ndoc[c] / len(X))\n",
    "        word_count[c] = defaultdict(lambda: 0)\n",
    "        \n",
    "        for syntax in data:      \n",
    "            \n",
    "            for word, count in Counter(syntax).items():\n",
    "                \n",
    "                if word not in vocab:\n",
    "                    \n",
    "                    vocab.add(word)      #vocabulary\n",
    "                word_count[c][word] = word_count[c][word] + count #gives the final word count\n",
    "    return log_priors,vocab,word_count,Ndoc"
   ]
  },
  {
   "cell_type": "code",
   "execution_count": 45,
   "metadata": {},
   "outputs": [],
   "source": [
    "log_priors,vocab,word_count,Ndoc = TrainNB(X_train,Y_train)"
   ]
  },
  {
   "cell_type": "code",
   "execution_count": 46,
   "metadata": {},
   "outputs": [],
   "source": [
    "def predictNB(X):   #prediction function\n",
    "    out = []\n",
    "    Class = unique_label(Y_train)\n",
    "    for syntax in X:\n",
    "        class_results = {c:log_priors[c] for c in Class}\n",
    "        words = set(syntax)\n",
    "        for word in words:\n",
    "            if word not in vocab: continue\n",
    "            for c in Class:\n",
    "                log_w_c = Laplace_smoothing(word, c)  #laplace smoothing applied\n",
    "                class_results[c] = class_results[c] + log_w_c\n",
    "                func = class_results.get\n",
    "        out.append(max(class_results, key=func))\n",
    "    return out"
   ]
  },
  {
   "cell_type": "code",
   "execution_count": 47,
   "metadata": {},
   "outputs": [],
   "source": [
    "#Add1 smoothing\n",
    "def Laplace_smoothing(word, syntax_class):\n",
    "    v = len(vocab)\n",
    "    numerator = word_count[syntax_class][word] + 1\n",
    "    denominator = Ndoc[syntax_class] + v\n",
    "    smooth_out = math.log(numerator / denominator)\n",
    "    return smooth_out"
   ]
  },
  {
   "cell_type": "code",
   "execution_count": 48,
   "metadata": {},
   "outputs": [],
   "source": [
    "Y_predict = predictNB(X_test)\n",
    "Y_predict = np.array(Y_predict)"
   ]
  },
  {
   "cell_type": "code",
   "execution_count": 49,
   "metadata": {},
   "outputs": [],
   "source": [
    "def Evaluation_func(Y_actual,Y_predicted):\n",
    "    confusion_matrix = pd.crosstab(Y_actual, Y_predicted,rownames=['Actual'], colnames=['Predicted']) #forms confusion matrix\n",
    "    print('The confusion matrix is \\n\\n',confusion_matrix,'\\n')\n",
    "    accuracy =100* (confusion_matrix[0][0]+confusion_matrix[1][1])/((confusion_matrix[0][0]+confusion_matrix[1][1])+(confusion_matrix[0][1]+confusion_matrix[1][0]))\n",
    "    print('Accuracy of testing data is:',accuracy,'%')"
   ]
  },
  {
   "cell_type": "code",
   "execution_count": 50,
   "metadata": {
    "scrolled": true
   },
   "outputs": [
    {
     "name": "stdout",
     "output_type": "stream",
     "text": [
      "The confusion matrix is \n",
      "\n",
      " Predicted      0      1\n",
      "Actual                 \n",
      "0          10229   2271\n",
      "1           1749  10751 \n",
      "\n",
      "Accuracy of testing data is: 83.92 %\n"
     ]
    }
   ],
   "source": [
    "Evaluation_func(Y_test,Y_predict)"
   ]
  },
  {
   "cell_type": "code",
   "execution_count": 51,
   "metadata": {},
   "outputs": [],
   "source": [
    "#Part2"
   ]
  },
  {
   "cell_type": "code",
   "execution_count": 52,
   "metadata": {},
   "outputs": [],
   "source": [
    "#creates corpus for training and testing data along with labels\n",
    "rev=[]\n",
    "rev_neg=[]\n",
    "pos_test = []\n",
    "neg_test = []\n",
    "\n",
    "\n",
    "for p in pos_file:\n",
    "    \n",
    "    rev.append( (p, 1) )\n",
    "    corpus =  pd.DataFrame(rev,columns=['Review','Label'])\n",
    "\n",
    "for p in neg_file:\n",
    "    rev_neg.append( (p, 0) )\n",
    "    corpus_neg =  pd.DataFrame(rev_neg,columns=['Review','Label'])\n",
    "    \n",
    "\n",
    "for p in test_pos:\n",
    "    pos_test.append( (p, 1) )\n",
    "    corpus_test_pos =  pd.DataFrame(pos_test,columns=['Review','Label'])\n",
    "    \n",
    "    \n",
    "for p in test_neg:\n",
    "    neg_test.append( (p, 0) )\n",
    "    corpus_test_neg =  pd.DataFrame(neg_test,columns=['Review','Label'])"
   ]
  },
  {
   "cell_type": "code",
   "execution_count": 53,
   "metadata": {},
   "outputs": [],
   "source": [
    "corpus_train = pd.concat([corpus, corpus_neg], ignore_index=True) #merges the whole of training corpus\n",
    "corpus_test = pd.concat([corpus_test_pos,corpus_test_neg],ignore_index=True) #merges the whole testing corpus"
   ]
  },
  {
   "cell_type": "code",
   "execution_count": 54,
   "metadata": {},
   "outputs": [],
   "source": [
    "from sklearn.feature_extraction.text import CountVectorizer\n",
    "from sklearn.naive_bayes import MultinomialNB\n",
    "from sklearn.metrics import accuracy_score\n",
    "from sklearn.metrics import confusion_matrix"
   ]
  },
  {
   "cell_type": "code",
   "execution_count": 55,
   "metadata": {},
   "outputs": [],
   "source": [
    "Xtr = corpus_train['Review'].values\n",
    "Ytr = corpus_train['Label'].values\n",
    "Xte = corpus_test['Review'].values\n",
    "Yte = corpus_test['Label'].values"
   ]
  },
  {
   "cell_type": "code",
   "execution_count": 56,
   "metadata": {},
   "outputs": [],
   "source": [
    "#Feature extraction\n",
    "vectorizer = CountVectorizer(stop_words = stop_words)\n",
    "Xtrain = vectorizer.fit_transform(Xtr)\n",
    "Xtest = vectorizer.transform(Xte)"
   ]
  },
  {
   "cell_type": "code",
   "execution_count": 57,
   "metadata": {},
   "outputs": [],
   "source": [
    "#Training and prediction\n",
    "MB = MultinomialNB()\n",
    "MB.fit(Xtrain,Ytr)\n",
    "Ypred = MB.predict(Xtest)"
   ]
  },
  {
   "cell_type": "code",
   "execution_count": 58,
   "metadata": {},
   "outputs": [
    {
     "name": "stdout",
     "output_type": "stream",
     "text": [
      "The accuracy is 82.392 %\n"
     ]
    }
   ],
   "source": [
    "accu_score = 100*accuracy_score(Yte, Ypred)\n",
    "print('The accuracy is',accu_score,'%')"
   ]
  },
  {
   "cell_type": "code",
   "execution_count": 59,
   "metadata": {},
   "outputs": [
    {
     "name": "stdout",
     "output_type": "stream",
     "text": [
      "The confusion matrix is\n",
      " [[11017  1483]\n",
      " [ 2919  9581]]\n"
     ]
    }
   ],
   "source": [
    "confusion_mat = confusion_matrix(Yte, Ypred)\n",
    "print('The confusion matrix is\\n',confusion_mat)"
   ]
  },
  {
   "cell_type": "code",
   "execution_count": null,
   "metadata": {},
   "outputs": [],
   "source": []
  }
 ],
 "metadata": {
  "kernelspec": {
   "display_name": "Python 3",
   "language": "python",
   "name": "python3"
  },
  "language_info": {
   "codemirror_mode": {
    "name": "ipython",
    "version": 3
   },
   "file_extension": ".py",
   "mimetype": "text/x-python",
   "name": "python",
   "nbconvert_exporter": "python",
   "pygments_lexer": "ipython3",
   "version": "3.7.6"
  }
 },
 "nbformat": 4,
 "nbformat_minor": 4
}
